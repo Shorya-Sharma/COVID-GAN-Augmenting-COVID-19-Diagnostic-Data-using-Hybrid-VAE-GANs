{
  "nbformat": 4,
  "nbformat_minor": 0,
  "metadata": {
    "colab": {
      "name": "VAE_GAN",
      "provenance": [],
      "mount_file_id": "1kzUCyZJkagQDLulk1ijIirkD43kjlXDf",
      "authorship_tag": "ABX9TyP/fE6XWhaLmHpo6iA//tGb",
      "include_colab_link": true
    },
    "kernelspec": {
      "name": "python3",
      "display_name": "Python 3"
    }
  },
  "cells": [
    {
      "cell_type": "markdown",
      "metadata": {
        "id": "view-in-github",
        "colab_type": "text"
      },
      "source": [
        "<a href=\"https://colab.research.google.com/github/RevanthBN/COVID-GANs/blob/main/VAE_GAN.ipynb\" target=\"_parent\"><img src=\"https://colab.research.google.com/assets/colab-badge.svg\" alt=\"Open In Colab\"/></a>"
      ]
    },
    {
      "cell_type": "code",
      "metadata": {
        "id": "shaXNT3bWHQS"
      },
      "source": [
        "from __future__ import print_function\n",
        "import matplotlib; matplotlib.use('Agg')\n",
        "#%matplotlib inline\n",
        "import torch\n",
        "import numpy\n",
        "import argparse\n",
        "import random\n",
        "numpy.random.seed(8)\n",
        "torch.manual_seed(8)\n",
        "torch.cuda.manual_seed(8)\n",
        "# from network import VaeGan\n",
        "from torch.autograd import Variable\n",
        "from torch.utils.data import Dataset\n",
        "from torch.optim import RMSprop,Adam,SGD\n",
        "from torch.optim.lr_scheduler import ExponentialLR, MultiStepLR\n",
        "#import progressbar\n",
        "from torchvision.utils import make_grid\n",
        "import torchvision.utils as vutils\n",
        "import matplotlib.pyplot as plt\n",
        "import matplotlib.animation as animation\n",
        "from IPython.display import HTML\n",
        "from torchvision.utils import save_image\n",
        "\n",
        "import os\n",
        "# from options import args\n",
        "# from data_loader import get_loader"
      ],
      "execution_count": null,
      "outputs": []
    },
    {
      "cell_type": "code",
      "metadata": {
        "id": "p7sBzo8KXr_j"
      },
      "source": [
        ""
      ],
      "execution_count": null,
      "outputs": []
    }
  ]
}